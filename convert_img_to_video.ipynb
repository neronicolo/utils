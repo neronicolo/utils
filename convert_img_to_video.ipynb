{
 "cells": [
  {
   "cell_type": "code",
   "execution_count": 44,
   "metadata": {},
   "outputs": [],
   "source": [
    "import subprocess\n",
    "from pathlib import Path\n",
    "import tempfile\n",
    "import shutil\n",
    "from tqdm import tqdm"
   ]
  },
  {
   "cell_type": "code",
   "execution_count": 45,
   "metadata": {},
   "outputs": [],
   "source": [
    "dir = '/home/nikola/projects/data/inputs/spanish-salish-admirality_trail'"
   ]
  },
  {
   "cell_type": "code",
   "execution_count": 47,
   "metadata": {},
   "outputs": [],
   "source": [
    "def organize_files_by_extension(directory_path):\n",
    "    directory = Path(directory_path)\n",
    "\n",
    "    # Ensuring the directory exists\n",
    "    if not directory.is_dir():\n",
    "        raise ValueError(f\"The path {directory_path} is not a valid directory.\")\n",
    "\n",
    "    # Getting a list of files\n",
    "    files = [file for file in directory.iterdir() if file.is_file()]\n",
    "\n",
    "    # Using tqdm for progress bar\n",
    "    for file in tqdm(files, desc=\"Organizing files\"):\n",
    "        # Get file extension in lower case and create a subdirectory name\n",
    "        extension = file.suffix.lower()[1:]  # remove the leading dot and convert to lower case\n",
    "        if extension:  # skip files without an extension\n",
    "            subdirectory = directory / extension\n",
    "\n",
    "            # Create the subdirectory if it does not exist\n",
    "            subdirectory.mkdir(exist_ok=True)\n",
    "\n",
    "            # Move the file\n",
    "            shutil.move(str(file), str(subdirectory / file.name))"
   ]
  },
  {
   "cell_type": "code",
   "execution_count": 31,
   "metadata": {},
   "outputs": [
    {
     "name": "stderr",
     "output_type": "stream",
     "text": [
      "Organizing files:   0%|          | 0/3448 [00:00<?, ?it/s]"
     ]
    },
    {
     "name": "stderr",
     "output_type": "stream",
     "text": [
      "Organizing files: 100%|██████████| 3448/3448 [00:00<00:00, 29269.12it/s]\n"
     ]
    }
   ],
   "source": [
    "organize_files_by_extension(dir)"
   ]
  },
  {
   "cell_type": "code",
   "execution_count": 32,
   "metadata": {},
   "outputs": [],
   "source": [
    "def rename_files_sequentially(directory_path):\n",
    "    directory = Path(directory_path)\n",
    "\n",
    "    # Ensuring the directory exists\n",
    "    if not directory.is_dir():\n",
    "        raise ValueError(f\"The path {directory_path} is not a valid directory.\")\n",
    "\n",
    "    # Getting a list of files and sorting them by name\n",
    "    files = sorted([file for file in directory.iterdir() if file.is_file()], key=lambda x: x.name)\n",
    "\n",
    "    # Using tqdm for progress bar\n",
    "    for i, file in enumerate(tqdm(files, desc=\"Renaming files\")):\n",
    "        # Construct new file name with same extension\n",
    "        new_name = f\"{i:04d}{file.suffix}\"\n",
    "\n",
    "        # Renaming the file\n",
    "        file.rename(directory / new_name)"
   ]
  },
  {
   "cell_type": "code",
   "execution_count": 33,
   "metadata": {},
   "outputs": [
    {
     "name": "stderr",
     "output_type": "stream",
     "text": [
      "Renaming files: 100%|██████████| 1721/1721 [00:00<00:00, 48977.80it/s]"
     ]
    },
    {
     "name": "stderr",
     "output_type": "stream",
     "text": [
      "\n",
      "Renaming files: 100%|██████████| 1721/1721 [00:00<00:00, 45530.73it/s]\n"
     ]
    }
   ],
   "source": [
    "rename_files_sequentially(dir + '/jpg')\n",
    "rename_files_sequentially(dir + '/dng')"
   ]
  },
  {
   "cell_type": "code",
   "execution_count": 56,
   "metadata": {},
   "outputs": [],
   "source": [
    "def create_video_from_images(directory_path, output_filename, frame_rate=24):\n",
    "    directory = Path(directory_path)\n",
    "\n",
    "    # Check if directory exists\n",
    "    if not directory.is_dir():\n",
    "        raise ValueError(f\"The path {directory_path} is not a valid directory.\")\n",
    "\n",
    "    # Supported image formats (in lower case)\n",
    "    image_formats = ['jpg', 'jpeg', 'png']\n",
    "\n",
    "    # Temporary directory to store renamed images\n",
    "    with tempfile.TemporaryDirectory() as temp_dir:\n",
    "        temp_dir_path = Path(temp_dir)\n",
    "\n",
    "        # Finding and copying images\n",
    "        image_files = []\n",
    "        for file in directory.iterdir():\n",
    "            if file.is_file() and file.suffix.lower()[1:] in image_formats:\n",
    "                image_files.append(file)\n",
    "\n",
    "        # Sort and rename images\n",
    "        for i, file in enumerate(sorted(image_files, key=lambda x: x.name)):\n",
    "            temp_file = temp_dir_path / f\"{i:04d}{file.suffix.lower()}\"  # Using lower case for consistency\n",
    "            shutil.copy(file, temp_file)\n",
    "\n",
    "        # Construct FFmpeg command\n",
    "        command = [\n",
    "            'ffmpeg',\n",
    "            '-framerate', str(frame_rate),\n",
    "            '-i', str(temp_dir_path / '%04d.jpg'),  # Using .jpg in pattern, as FFmpeg treats the suffix in the pattern as a placeholder\n",
    "            '-c:v', 'libx264',\n",
    "            '-pix_fmt', 'yuv420p',\n",
    "            str(directory / output_filename)\n",
    "        ]\n",
    "\n",
    "        # Run the FFmpeg command\n",
    "        subprocess.run(command)"
   ]
  },
  {
   "cell_type": "code",
   "execution_count": 57,
   "metadata": {},
   "outputs": [
    {
     "name": "stderr",
     "output_type": "stream",
     "text": [
      "ffmpeg version 4.2.7-0ubuntu0.1 Copyright (c) 2000-2022 the FFmpeg developers\n",
      "  built with gcc 9 (Ubuntu 9.4.0-1ubuntu1~20.04.1)\n",
      "  configuration: --prefix=/usr --extra-version=0ubuntu0.1 --toolchain=hardened --libdir=/usr/lib/x86_64-linux-gnu --incdir=/usr/include/x86_64-linux-gnu --arch=amd64 --enable-gpl --disable-stripping --enable-avresample --disable-filter=resample --enable-avisynth --enable-gnutls --enable-ladspa --enable-libaom --enable-libass --enable-libbluray --enable-libbs2b --enable-libcaca --enable-libcdio --enable-libcodec2 --enable-libflite --enable-libfontconfig --enable-libfreetype --enable-libfribidi --enable-libgme --enable-libgsm --enable-libjack --enable-libmp3lame --enable-libmysofa --enable-libopenjpeg --enable-libopenmpt --enable-libopus --enable-libpulse --enable-librsvg --enable-librubberband --enable-libshine --enable-libsnappy --enable-libsoxr --enable-libspeex --enable-libssh --enable-libtheora --enable-libtwolame --enable-libvidstab --enable-libvorbis --enable-libvpx --enable-libwavpack --enable-libwebp --enable-libx265 --enable-libxml2 --enable-libxvid --enable-libzmq --enable-libzvbi --enable-lv2 --enable-omx --enable-openal --enable-opencl --enable-opengl --enable-sdl2 --enable-libdc1394 --enable-libdrm --enable-libiec61883 --enable-nvenc --enable-chromaprint --enable-frei0r --enable-libx264 --enable-shared\n",
      "  libavutil      56. 31.100 / 56. 31.100\n",
      "  libavcodec     58. 54.100 / 58. 54.100\n",
      "  libavformat    58. 29.100 / 58. 29.100\n",
      "  libavdevice    58.  8.100 / 58.  8.100\n",
      "  libavfilter     7. 57.100 /  7. 57.100\n",
      "  libavresample   4.  0.  0 /  4.  0.  0\n",
      "  libswscale      5.  5.100 /  5.  5.100\n",
      "  libswresample   3.  5.100 /  3.  5.100\n",
      "  libpostproc    55.  5.100 / 55.  5.100\n",
      "Input #0, image2, from '/tmp/tmp8q948zfy/%04d.jpg':\n",
      "  Duration: 00:02:23.42, start: 0.000000, bitrate: N/A\n",
      "    Stream #0:0: Video: mjpeg (Baseline), yuvj420p(pc, bt470bg/unknown/unknown), 4032x3024 [SAR 72:72 DAR 4:3], 12 tbr, 12 tbn, 12 tbc\n",
      "Stream mapping:\n",
      "  Stream #0:0 -> #0:0 (mjpeg (native) -> h264 (libx264))\n",
      "Press [q] to stop, [?] for help\n",
      "[swscaler @ 0x564d89b65880] deprecated pixel format used, make sure you did set range correctly\n",
      "[libx264 @ 0x564d89008680] using SAR=1/1\n",
      "[libx264 @ 0x564d89008680] using cpu capabilities: MMX2 SSE2Fast SSSE3 SSE4.2 AVX FMA3 BMI2 AVX2\n",
      "[libx264 @ 0x564d89008680] profile High, level 6.0\n",
      "[libx264 @ 0x564d89008680] 264 - core 155 r2917 0a84d98 - H.264/MPEG-4 AVC codec - Copyleft 2003-2018 - http://www.videolan.org/x264.html - options: cabac=1 ref=3 deblock=1:0:0 analyse=0x3:0x113 me=hex subme=7 psy=1 psy_rd=1.00:0.00 mixed_ref=1 me_range=16 chroma_me=1 trellis=1 8x8dct=1 cqm=0 deadzone=21,11 fast_pskip=1 chroma_qp_offset=-2 threads=48 lookahead_threads=8 sliced_threads=0 nr=0 decimate=1 interlaced=0 bluray_compat=0 constrained_intra=0 bframes=3 b_pyramid=2 b_adapt=1 b_bias=0 direct=1 weightb=1 open_gop=0 weightp=2 keyint=250 keyint_min=12 scenecut=40 intra_refresh=0 rc_lookahead=40 rc=crf mbtree=1 crf=23.0 qcomp=0.60 qpmin=0 qpmax=69 qpstep=4 ip_ratio=1.40 aq=1:1.00\n",
      "Output #0, mp4, to '/home/nikola/projects/data/inputs/spanish-salish-admirality_trail/jpg/output.mp4':\n",
      "  Metadata:\n",
      "    encoder         : Lavf58.29.100\n",
      "    Stream #0:0: Video: h264 (libx264) (avc1 / 0x31637661), yuv420p, 4032x3024 [SAR 1:1 DAR 4:3], q=-1--1, 12 fps, 12288 tbn, 12 tbc\n",
      "    Metadata:\n",
      "      encoder         : Lavc58.54.100 libx264\n",
      "    Side data:\n",
      "      cpb: bitrate max/min/avg: 0/0/0 buffer size: 0 vbv_delay: -1\n",
      "frame=  520 fps= 10 q=26.0 size=  518400kB time=00:00:35.41 bitrate=119907.5kbits/s speed=0.713x      \r"
     ]
    }
   ],
   "source": [
    "create_video_from_images(dir + '/jpg', \"output.mp4\", frame_rate=12)"
   ]
  },
  {
   "cell_type": "code",
   "execution_count": null,
   "metadata": {},
   "outputs": [],
   "source": []
  }
 ],
 "metadata": {
  "kernelspec": {
   "display_name": "rnd",
   "language": "python",
   "name": "python3"
  },
  "language_info": {
   "codemirror_mode": {
    "name": "ipython",
    "version": 3
   },
   "file_extension": ".py",
   "mimetype": "text/x-python",
   "name": "python",
   "nbconvert_exporter": "python",
   "pygments_lexer": "ipython3",
   "version": "3.9.16"
  }
 },
 "nbformat": 4,
 "nbformat_minor": 2
}
