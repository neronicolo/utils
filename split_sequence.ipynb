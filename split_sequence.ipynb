{
 "cells": [
  {
   "cell_type": "code",
   "execution_count": null,
   "metadata": {},
   "outputs": [],
   "source": [
    "import os\n",
    "import shutil\n",
    "from tqdm import tqdm\n",
    "from pathlib import Path"
   ]
  },
  {
   "cell_type": "code",
   "execution_count": null,
   "metadata": {},
   "outputs": [],
   "source": [
    "import shutil\n",
    "from pathlib import Path\n",
    "\n",
    "\n",
    "def split_sequence(source_dir, output_dir, split=4, overlap_percent=5):\n",
    "    source_dir = Path(source_dir)\n",
    "    output_dir = Path(output_dir)\n",
    "\n",
    "    file_names = sorted(\n",
    "        file_path for file_path in source_dir.glob('**/*')\n",
    "        if file_path.is_file() and file_path.suffix.lower() in ['.png', '.jpg']\n",
    "    )\n",
    "\n",
    "    n = len(file_names)\n",
    "    print(f'total images: {n}')\n",
    "\n",
    "    chunk_fstart_fend = {}\n",
    "\n",
    "    chunk = n // split\n",
    "    overlap_frames = chunk * overlap_percent // 100\n",
    "\n",
    "    frame_start = 0\n",
    "    frame_end = chunk\n",
    "\n",
    "    for i in range(split):\n",
    "        chunk_fstart_fend[i] = frame_start, frame_end\n",
    "        print(f'chunk_{i}: frame_start: {frame_start}, frame_end: {frame_end}')\n",
    "\n",
    "        chunk_dir = Path(str(output_dir/source_dir.name) + '_' + f'chunk_{i}')\n",
    "        chunk_dir.mkdir(parents=True, exist_ok=True)\n",
    "\n",
    "        for file_name in tqdm(file_names[frame_start:frame_end], desc='Copying files', unit='file'):\n",
    "            shutil.copy(file_name, chunk_dir)\n",
    "\n",
    "        frame_start += chunk - overlap_frames\n",
    "        frame_end += chunk\n"
   ]
  },
  {
   "cell_type": "code",
   "execution_count": null,
   "metadata": {},
   "outputs": [],
   "source": [
    "in_dir = \"/home/nikola/projects/data/inputs/vancouver_streets/west_broadway_equirectangular\"\n",
    "out_dir = \"/home/nikola/projects/data/inputs/vancouver_streets/\"\n",
    "\n",
    "chunks = split_sequence(in_dir, out_dir)"
   ]
  },
  {
   "cell_type": "code",
   "execution_count": null,
   "metadata": {},
   "outputs": [],
   "source": [
    "def keep_images(input_dir, output_dir, keep_every=10):\n",
    "    input_dir = Path(input_dir)\n",
    "    output_dir = Path(output_dir)\n",
    "\n",
    "    file_names = sorted(\n",
    "        file_path for file_path in input_dir.glob('**/*')\n",
    "        if file_path.is_file() and file_path.suffix.lower() in ['.png', '.jpg']\n",
    "    )\n",
    "    \n",
    "    keep_dir = Path(str(output_dir/input_dir.name) + '_' + f'{keep_every}')\n",
    "    keep_dir.mkdir(parents=True, exist_ok=True)\n",
    "\n",
    "    for i,file_name in enumerate(tqdm(file_names, desc='Copying files', unit='file')):\n",
    "        if i % keep_every == 0:\n",
    "            shutil.copy(file_name, keep_dir)"
   ]
  },
  {
   "cell_type": "code",
   "execution_count": null,
   "metadata": {},
   "outputs": [],
   "source": [
    "in_dir = \"/home/nikola/projects/data/inputs/vancouver_streets/west_broadway_equirectangular_chunk_1/\"\n",
    "out_dir = \"/home/nikola/projects/data/inputs/vancouver_streets/\"\n",
    "\n",
    "keep_images(in_dir, out_dir, keep_every=20)"
   ]
  },
  {
   "cell_type": "code",
   "execution_count": null,
   "metadata": {},
   "outputs": [],
   "source": []
  }
 ],
 "metadata": {
  "kernelspec": {
   "display_name": "rnd",
   "language": "python",
   "name": "python3"
  },
  "language_info": {
   "codemirror_mode": {
    "name": "ipython",
    "version": 3
   },
   "file_extension": ".py",
   "mimetype": "text/x-python",
   "name": "python",
   "nbconvert_exporter": "python",
   "pygments_lexer": "ipython3",
   "version": "3.9.16"
  },
  "orig_nbformat": 4
 },
 "nbformat": 4,
 "nbformat_minor": 2
}
