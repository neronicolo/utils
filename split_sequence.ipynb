{
 "cells": [
  {
   "cell_type": "code",
   "execution_count": 128,
   "metadata": {},
   "outputs": [],
   "source": [
    "import os\n",
    "import shutil\n",
    "from tqdm import tqdm\n",
    "from pathlib import Path"
   ]
  },
  {
   "cell_type": "code",
   "execution_count": 129,
   "metadata": {},
   "outputs": [],
   "source": [
    "import shutil\n",
    "from pathlib import Path\n",
    "\n",
    "\n",
    "def split_sequence(source_dir, output_dir, split=4, overlap_percent=5):\n",
    "    source_dir = Path(source_dir)\n",
    "    output_dir = Path(output_dir)\n",
    "\n",
    "    file_names = sorted(\n",
    "        file_path for file_path in source_dir.glob('**/*')\n",
    "        if file_path.is_file() and file_path.suffix.lower() in ['.png', '.jpg']\n",
    "    )\n",
    "\n",
    "    n = len(file_names)\n",
    "    print(f'total images: {n}')\n",
    "\n",
    "    chunk_fstart_fend = {}\n",
    "\n",
    "    chunk = n // split\n",
    "    overlap_frames = chunk * overlap_percent // 100\n",
    "\n",
    "    frame_start = 0\n",
    "    frame_end = chunk\n",
    "\n",
    "    for i in range(split):\n",
    "        chunk_fstart_fend[i] = frame_start, frame_end\n",
    "        print(f'chunk_{i}: frame_start: {frame_start}, frame_end: {frame_end}')\n",
    "\n",
    "        chunk_dir = Path(str(output_dir/source_dir.name) + '_' + f'chunk_{i}')\n",
    "        chunk_dir.mkdir(parents=True, exist_ok=True)\n",
    "\n",
    "        for file_name in tqdm(file_names[frame_start:frame_end], desc='Copying files', unit='file'):\n",
    "            shutil.copy(file_name, chunk_dir)\n",
    "\n",
    "        frame_start += chunk - overlap_frames\n",
    "        frame_end += chunk\n"
   ]
  },
  {
   "cell_type": "code",
   "execution_count": 130,
   "metadata": {},
   "outputs": [
    {
     "name": "stdout",
     "output_type": "stream",
     "text": [
      "total images: 4454\n",
      "chunk_0: frame_start: 0, frame_end: 1113\n",
      "/home/nikola/projects/data/inputs/vancouver_streets/west_broadway_equirectangular_chunk_0\n"
     ]
    },
    {
     "name": "stderr",
     "output_type": "stream",
     "text": [
      "Copying files:  34%|███▍      | 378/1113 [00:33<01:04, 11.43file/s]\n"
     ]
    },
    {
     "ename": "KeyboardInterrupt",
     "evalue": "",
     "output_type": "error",
     "traceback": [
      "\u001b[0;31m---------------------------------------------------------------------------\u001b[0m",
      "\u001b[0;31mKeyboardInterrupt\u001b[0m                         Traceback (most recent call last)",
      "Cell \u001b[0;32mIn[130], line 4\u001b[0m\n\u001b[1;32m      1\u001b[0m in_dir \u001b[39m=\u001b[39m \u001b[39m\"\u001b[39m\u001b[39m/home/nikola/projects/data/inputs/vancouver_streets/west_broadway_equirectangular\u001b[39m\u001b[39m\"\u001b[39m\n\u001b[1;32m      2\u001b[0m out_dir \u001b[39m=\u001b[39m \u001b[39m\"\u001b[39m\u001b[39m/home/nikola/projects/data/inputs/vancouver_streets/\u001b[39m\u001b[39m\"\u001b[39m\n\u001b[0;32m----> 4\u001b[0m chunks \u001b[39m=\u001b[39m split_sequence(in_dir, out_dir)\n",
      "Cell \u001b[0;32mIn[129], line 34\u001b[0m, in \u001b[0;36msplit_sequence\u001b[0;34m(source_dir, output_dir, split, overlap_percent)\u001b[0m\n\u001b[1;32m     32\u001b[0m \u001b[39mprint\u001b[39m(chunk_dir)\n\u001b[1;32m     33\u001b[0m \u001b[39mfor\u001b[39;00m file_name \u001b[39min\u001b[39;00m tqdm(file_names[frame_start:frame_end], desc\u001b[39m=\u001b[39m\u001b[39m'\u001b[39m\u001b[39mCopying files\u001b[39m\u001b[39m'\u001b[39m, unit\u001b[39m=\u001b[39m\u001b[39m'\u001b[39m\u001b[39mfile\u001b[39m\u001b[39m'\u001b[39m):\n\u001b[0;32m---> 34\u001b[0m     shutil\u001b[39m.\u001b[39;49mcopy(file_name, chunk_dir)\n\u001b[1;32m     36\u001b[0m frame_start \u001b[39m+\u001b[39m\u001b[39m=\u001b[39m chunk \u001b[39m-\u001b[39m overlap_frames\n\u001b[1;32m     37\u001b[0m frame_end \u001b[39m+\u001b[39m\u001b[39m=\u001b[39m chunk\n",
      "File \u001b[0;32m~/anaconda3/envs/rnd/lib/python3.9/shutil.py:427\u001b[0m, in \u001b[0;36mcopy\u001b[0;34m(src, dst, follow_symlinks)\u001b[0m\n\u001b[1;32m    425\u001b[0m \u001b[39mif\u001b[39;00m os\u001b[39m.\u001b[39mpath\u001b[39m.\u001b[39misdir(dst):\n\u001b[1;32m    426\u001b[0m     dst \u001b[39m=\u001b[39m os\u001b[39m.\u001b[39mpath\u001b[39m.\u001b[39mjoin(dst, os\u001b[39m.\u001b[39mpath\u001b[39m.\u001b[39mbasename(src))\n\u001b[0;32m--> 427\u001b[0m copyfile(src, dst, follow_symlinks\u001b[39m=\u001b[39;49mfollow_symlinks)\n\u001b[1;32m    428\u001b[0m copymode(src, dst, follow_symlinks\u001b[39m=\u001b[39mfollow_symlinks)\n\u001b[1;32m    429\u001b[0m \u001b[39mreturn\u001b[39;00m dst\n",
      "File \u001b[0;32m~/anaconda3/envs/rnd/lib/python3.9/shutil.py:277\u001b[0m, in \u001b[0;36mcopyfile\u001b[0;34m(src, dst, follow_symlinks)\u001b[0m\n\u001b[1;32m    275\u001b[0m \u001b[39melif\u001b[39;00m _USE_CP_SENDFILE:\n\u001b[1;32m    276\u001b[0m     \u001b[39mtry\u001b[39;00m:\n\u001b[0;32m--> 277\u001b[0m         _fastcopy_sendfile(fsrc, fdst)\n\u001b[1;32m    278\u001b[0m         \u001b[39mreturn\u001b[39;00m dst\n\u001b[1;32m    279\u001b[0m     \u001b[39mexcept\u001b[39;00m _GiveupOnFastCopy:\n",
      "File \u001b[0;32m~/anaconda3/envs/rnd/lib/python3.9/shutil.py:152\u001b[0m, in \u001b[0;36m_fastcopy_sendfile\u001b[0;34m(fsrc, fdst)\u001b[0m\n\u001b[1;32m    150\u001b[0m \u001b[39mwhile\u001b[39;00m \u001b[39mTrue\u001b[39;00m:\n\u001b[1;32m    151\u001b[0m     \u001b[39mtry\u001b[39;00m:\n\u001b[0;32m--> 152\u001b[0m         sent \u001b[39m=\u001b[39m os\u001b[39m.\u001b[39;49msendfile(outfd, infd, offset, blocksize)\n\u001b[1;32m    153\u001b[0m     \u001b[39mexcept\u001b[39;00m \u001b[39mOSError\u001b[39;00m \u001b[39mas\u001b[39;00m err:\n\u001b[1;32m    154\u001b[0m         \u001b[39m# ...in oder to have a more informative exception.\u001b[39;00m\n\u001b[1;32m    155\u001b[0m         err\u001b[39m.\u001b[39mfilename \u001b[39m=\u001b[39m fsrc\u001b[39m.\u001b[39mname\n",
      "\u001b[0;31mKeyboardInterrupt\u001b[0m: "
     ]
    }
   ],
   "source": [
    "in_dir = \"/home/nikola/projects/data/inputs/vancouver_streets/west_broadway_equirectangular\"\n",
    "out_dir = \"/home/nikola/projects/data/inputs/vancouver_streets/\"\n",
    "\n",
    "chunks = split_sequence(in_dir, out_dir)"
   ]
  },
  {
   "cell_type": "code",
   "execution_count": null,
   "metadata": {},
   "outputs": [],
   "source": []
  }
 ],
 "metadata": {
  "kernelspec": {
   "display_name": "rnd",
   "language": "python",
   "name": "python3"
  },
  "language_info": {
   "codemirror_mode": {
    "name": "ipython",
    "version": 3
   },
   "file_extension": ".py",
   "mimetype": "text/x-python",
   "name": "python",
   "nbconvert_exporter": "python",
   "pygments_lexer": "ipython3",
   "version": "3.9.16"
  },
  "orig_nbformat": 4
 },
 "nbformat": 4,
 "nbformat_minor": 2
}
